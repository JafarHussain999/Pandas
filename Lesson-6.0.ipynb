{
 "cells": [
  {
   "cell_type": "markdown",
   "id": "c180d124",
   "metadata": {},
   "source": [
    "# Add/Remove Rows and Columns From DataFrames"
   ]
  },
  {
   "cell_type": "code",
   "execution_count": 109,
   "id": "4a7d018d",
   "metadata": {},
   "outputs": [],
   "source": [
    "people = {\n",
    "    \"Name\" : [\"Jafar\",\"Surya\",\"Vikram\"],\n",
    "    \"No\"   : [10,20,30],\n",
    "    \"Mail\" : [\"shaikmohammadhussain999@gmail.com\",\"Surya@gmail.com\",\"Vikram@gmail.com\"]\n",
    "}"
   ]
  },
  {
   "cell_type": "code",
   "execution_count": 110,
   "id": "cd83c321",
   "metadata": {},
   "outputs": [],
   "source": [
    "import pandas as pd"
   ]
  },
  {
   "cell_type": "code",
   "execution_count": 111,
   "id": "fcac1bd7",
   "metadata": {},
   "outputs": [],
   "source": [
    "df = pd.DataFrame(people)"
   ]
  },
  {
   "cell_type": "code",
   "execution_count": 112,
   "id": "d0a8757f",
   "metadata": {},
   "outputs": [
    {
     "data": {
      "text/html": [
       "<div>\n",
       "<style scoped>\n",
       "    .dataframe tbody tr th:only-of-type {\n",
       "        vertical-align: middle;\n",
       "    }\n",
       "\n",
       "    .dataframe tbody tr th {\n",
       "        vertical-align: top;\n",
       "    }\n",
       "\n",
       "    .dataframe thead th {\n",
       "        text-align: right;\n",
       "    }\n",
       "</style>\n",
       "<table border=\"1\" class=\"dataframe\">\n",
       "  <thead>\n",
       "    <tr style=\"text-align: right;\">\n",
       "      <th></th>\n",
       "      <th>Name</th>\n",
       "      <th>No</th>\n",
       "      <th>Mail</th>\n",
       "    </tr>\n",
       "  </thead>\n",
       "  <tbody>\n",
       "    <tr>\n",
       "      <th>0</th>\n",
       "      <td>Jafar</td>\n",
       "      <td>10</td>\n",
       "      <td>shaikmohammadhussain999@gmail.com</td>\n",
       "    </tr>\n",
       "    <tr>\n",
       "      <th>1</th>\n",
       "      <td>Surya</td>\n",
       "      <td>20</td>\n",
       "      <td>Surya@gmail.com</td>\n",
       "    </tr>\n",
       "    <tr>\n",
       "      <th>2</th>\n",
       "      <td>Vikram</td>\n",
       "      <td>30</td>\n",
       "      <td>Vikram@gmail.com</td>\n",
       "    </tr>\n",
       "  </tbody>\n",
       "</table>\n",
       "</div>"
      ],
      "text/plain": [
       "     Name  No                               Mail\n",
       "0   Jafar  10  shaikmohammadhussain999@gmail.com\n",
       "1   Surya  20                    Surya@gmail.com\n",
       "2  Vikram  30                   Vikram@gmail.com"
      ]
     },
     "execution_count": 112,
     "metadata": {},
     "output_type": "execute_result"
    }
   ],
   "source": [
    "df"
   ]
  },
  {
   "cell_type": "markdown",
   "id": "9223b991",
   "metadata": {},
   "source": [
    "# Adding one Column with name of 'Last'"
   ]
  },
  {
   "cell_type": "code",
   "execution_count": 113,
   "id": "0d673f0d",
   "metadata": {},
   "outputs": [],
   "source": [
    "df['Last'] = ['Hussain' , 'Rolex' ,'Kamal']"
   ]
  },
  {
   "cell_type": "code",
   "execution_count": 114,
   "id": "6c79177c",
   "metadata": {},
   "outputs": [
    {
     "data": {
      "text/html": [
       "<div>\n",
       "<style scoped>\n",
       "    .dataframe tbody tr th:only-of-type {\n",
       "        vertical-align: middle;\n",
       "    }\n",
       "\n",
       "    .dataframe tbody tr th {\n",
       "        vertical-align: top;\n",
       "    }\n",
       "\n",
       "    .dataframe thead th {\n",
       "        text-align: right;\n",
       "    }\n",
       "</style>\n",
       "<table border=\"1\" class=\"dataframe\">\n",
       "  <thead>\n",
       "    <tr style=\"text-align: right;\">\n",
       "      <th></th>\n",
       "      <th>Name</th>\n",
       "      <th>No</th>\n",
       "      <th>Mail</th>\n",
       "      <th>Last</th>\n",
       "    </tr>\n",
       "  </thead>\n",
       "  <tbody>\n",
       "    <tr>\n",
       "      <th>0</th>\n",
       "      <td>Jafar</td>\n",
       "      <td>10</td>\n",
       "      <td>shaikmohammadhussain999@gmail.com</td>\n",
       "      <td>Hussain</td>\n",
       "    </tr>\n",
       "    <tr>\n",
       "      <th>1</th>\n",
       "      <td>Surya</td>\n",
       "      <td>20</td>\n",
       "      <td>Surya@gmail.com</td>\n",
       "      <td>Rolex</td>\n",
       "    </tr>\n",
       "    <tr>\n",
       "      <th>2</th>\n",
       "      <td>Vikram</td>\n",
       "      <td>30</td>\n",
       "      <td>Vikram@gmail.com</td>\n",
       "      <td>Kamal</td>\n",
       "    </tr>\n",
       "  </tbody>\n",
       "</table>\n",
       "</div>"
      ],
      "text/plain": [
       "     Name  No                               Mail     Last\n",
       "0   Jafar  10  shaikmohammadhussain999@gmail.com  Hussain\n",
       "1   Surya  20                    Surya@gmail.com    Rolex\n",
       "2  Vikram  30                   Vikram@gmail.com    Kamal"
      ]
     },
     "execution_count": 114,
     "metadata": {},
     "output_type": "execute_result"
    }
   ],
   "source": [
    "df"
   ]
  },
  {
   "cell_type": "markdown",
   "id": "0c5bb3b0",
   "metadata": {},
   "source": [
    "# Adding to Column to get one result"
   ]
  },
  {
   "cell_type": "code",
   "execution_count": 115,
   "id": "ed4475be",
   "metadata": {},
   "outputs": [
    {
     "data": {
      "text/html": [
       "<div>\n",
       "<style scoped>\n",
       "    .dataframe tbody tr th:only-of-type {\n",
       "        vertical-align: middle;\n",
       "    }\n",
       "\n",
       "    .dataframe tbody tr th {\n",
       "        vertical-align: top;\n",
       "    }\n",
       "\n",
       "    .dataframe thead th {\n",
       "        text-align: right;\n",
       "    }\n",
       "</style>\n",
       "<table border=\"1\" class=\"dataframe\">\n",
       "  <thead>\n",
       "    <tr style=\"text-align: right;\">\n",
       "      <th></th>\n",
       "      <th>Name</th>\n",
       "      <th>No</th>\n",
       "      <th>Mail</th>\n",
       "      <th>Last</th>\n",
       "      <th>Full_Name</th>\n",
       "    </tr>\n",
       "  </thead>\n",
       "  <tbody>\n",
       "    <tr>\n",
       "      <th>0</th>\n",
       "      <td>Jafar</td>\n",
       "      <td>10</td>\n",
       "      <td>shaikmohammadhussain999@gmail.com</td>\n",
       "      <td>Hussain</td>\n",
       "      <td>Jafar Hussain</td>\n",
       "    </tr>\n",
       "    <tr>\n",
       "      <th>1</th>\n",
       "      <td>Surya</td>\n",
       "      <td>20</td>\n",
       "      <td>Surya@gmail.com</td>\n",
       "      <td>Rolex</td>\n",
       "      <td>Surya Rolex</td>\n",
       "    </tr>\n",
       "    <tr>\n",
       "      <th>2</th>\n",
       "      <td>Vikram</td>\n",
       "      <td>30</td>\n",
       "      <td>Vikram@gmail.com</td>\n",
       "      <td>Kamal</td>\n",
       "      <td>Vikram Kamal</td>\n",
       "    </tr>\n",
       "  </tbody>\n",
       "</table>\n",
       "</div>"
      ],
      "text/plain": [
       "     Name  No                               Mail     Last      Full_Name\n",
       "0   Jafar  10  shaikmohammadhussain999@gmail.com  Hussain  Jafar Hussain\n",
       "1   Surya  20                    Surya@gmail.com    Rolex    Surya Rolex\n",
       "2  Vikram  30                   Vikram@gmail.com    Kamal   Vikram Kamal"
      ]
     },
     "execution_count": 115,
     "metadata": {},
     "output_type": "execute_result"
    }
   ],
   "source": [
    "df['Full_Name'] = df['Name'] + ' ' + df['Last']\n",
    "df"
   ]
  },
  {
   "cell_type": "code",
   "execution_count": 116,
   "id": "28b3b350",
   "metadata": {},
   "outputs": [
    {
     "data": {
      "text/html": [
       "<div>\n",
       "<style scoped>\n",
       "    .dataframe tbody tr th:only-of-type {\n",
       "        vertical-align: middle;\n",
       "    }\n",
       "\n",
       "    .dataframe tbody tr th {\n",
       "        vertical-align: top;\n",
       "    }\n",
       "\n",
       "    .dataframe thead th {\n",
       "        text-align: right;\n",
       "    }\n",
       "</style>\n",
       "<table border=\"1\" class=\"dataframe\">\n",
       "  <thead>\n",
       "    <tr style=\"text-align: right;\">\n",
       "      <th></th>\n",
       "      <th>First</th>\n",
       "      <th>No</th>\n",
       "      <th>Mail</th>\n",
       "      <th>Last</th>\n",
       "      <th>Full_Name</th>\n",
       "    </tr>\n",
       "  </thead>\n",
       "  <tbody>\n",
       "    <tr>\n",
       "      <th>0</th>\n",
       "      <td>Jafar</td>\n",
       "      <td>10</td>\n",
       "      <td>shaikmohammadhussain999@gmail.com</td>\n",
       "      <td>Hussain</td>\n",
       "      <td>Jafar Hussain</td>\n",
       "    </tr>\n",
       "    <tr>\n",
       "      <th>1</th>\n",
       "      <td>Surya</td>\n",
       "      <td>20</td>\n",
       "      <td>Surya@gmail.com</td>\n",
       "      <td>Rolex</td>\n",
       "      <td>Surya Rolex</td>\n",
       "    </tr>\n",
       "    <tr>\n",
       "      <th>2</th>\n",
       "      <td>Vikram</td>\n",
       "      <td>30</td>\n",
       "      <td>Vikram@gmail.com</td>\n",
       "      <td>Kamal</td>\n",
       "      <td>Vikram Kamal</td>\n",
       "    </tr>\n",
       "  </tbody>\n",
       "</table>\n",
       "</div>"
      ],
      "text/plain": [
       "    First  No                               Mail     Last      Full_Name\n",
       "0   Jafar  10  shaikmohammadhussain999@gmail.com  Hussain  Jafar Hussain\n",
       "1   Surya  20                    Surya@gmail.com    Rolex    Surya Rolex\n",
       "2  Vikram  30                   Vikram@gmail.com    Kamal   Vikram Kamal"
      ]
     },
     "execution_count": 116,
     "metadata": {},
     "output_type": "execute_result"
    }
   ],
   "source": [
    "df.rename(columns={'Name' : 'First'} , inplace=True)\n",
    "df"
   ]
  },
  {
   "cell_type": "markdown",
   "id": "60f23408",
   "metadata": {},
   "source": [
    "# Deleting the Columns"
   ]
  },
  {
   "cell_type": "code",
   "execution_count": 117,
   "id": "2b46823e",
   "metadata": {},
   "outputs": [
    {
     "data": {
      "text/html": [
       "<div>\n",
       "<style scoped>\n",
       "    .dataframe tbody tr th:only-of-type {\n",
       "        vertical-align: middle;\n",
       "    }\n",
       "\n",
       "    .dataframe tbody tr th {\n",
       "        vertical-align: top;\n",
       "    }\n",
       "\n",
       "    .dataframe thead th {\n",
       "        text-align: right;\n",
       "    }\n",
       "</style>\n",
       "<table border=\"1\" class=\"dataframe\">\n",
       "  <thead>\n",
       "    <tr style=\"text-align: right;\">\n",
       "      <th></th>\n",
       "      <th>No</th>\n",
       "      <th>Mail</th>\n",
       "      <th>Full_Name</th>\n",
       "    </tr>\n",
       "  </thead>\n",
       "  <tbody>\n",
       "    <tr>\n",
       "      <th>0</th>\n",
       "      <td>10</td>\n",
       "      <td>shaikmohammadhussain999@gmail.com</td>\n",
       "      <td>Jafar Hussain</td>\n",
       "    </tr>\n",
       "    <tr>\n",
       "      <th>1</th>\n",
       "      <td>20</td>\n",
       "      <td>Surya@gmail.com</td>\n",
       "      <td>Surya Rolex</td>\n",
       "    </tr>\n",
       "    <tr>\n",
       "      <th>2</th>\n",
       "      <td>30</td>\n",
       "      <td>Vikram@gmail.com</td>\n",
       "      <td>Vikram Kamal</td>\n",
       "    </tr>\n",
       "  </tbody>\n",
       "</table>\n",
       "</div>"
      ],
      "text/plain": [
       "   No                               Mail      Full_Name\n",
       "0  10  shaikmohammadhussain999@gmail.com  Jafar Hussain\n",
       "1  20                    Surya@gmail.com    Surya Rolex\n",
       "2  30                   Vikram@gmail.com   Vikram Kamal"
      ]
     },
     "execution_count": 117,
     "metadata": {},
     "output_type": "execute_result"
    }
   ],
   "source": [
    "df.drop(columns= ['First','Last'] ,inplace=True )\n",
    "df"
   ]
  },
  {
   "cell_type": "markdown",
   "id": "0d3f16c5",
   "metadata": {},
   "source": [
    "# Spliting the one column in to two columns"
   ]
  },
  {
   "cell_type": "code",
   "execution_count": 118,
   "id": "116117e8",
   "metadata": {},
   "outputs": [
    {
     "data": {
      "text/html": [
       "<div>\n",
       "<style scoped>\n",
       "    .dataframe tbody tr th:only-of-type {\n",
       "        vertical-align: middle;\n",
       "    }\n",
       "\n",
       "    .dataframe tbody tr th {\n",
       "        vertical-align: top;\n",
       "    }\n",
       "\n",
       "    .dataframe thead th {\n",
       "        text-align: right;\n",
       "    }\n",
       "</style>\n",
       "<table border=\"1\" class=\"dataframe\">\n",
       "  <thead>\n",
       "    <tr style=\"text-align: right;\">\n",
       "      <th></th>\n",
       "      <th>No</th>\n",
       "      <th>Mail</th>\n",
       "      <th>Full_Name</th>\n",
       "      <th>First</th>\n",
       "      <th>Last</th>\n",
       "    </tr>\n",
       "  </thead>\n",
       "  <tbody>\n",
       "    <tr>\n",
       "      <th>0</th>\n",
       "      <td>10</td>\n",
       "      <td>shaikmohammadhussain999@gmail.com</td>\n",
       "      <td>Jafar Hussain</td>\n",
       "      <td>Jafar</td>\n",
       "      <td>Hussain</td>\n",
       "    </tr>\n",
       "    <tr>\n",
       "      <th>1</th>\n",
       "      <td>20</td>\n",
       "      <td>Surya@gmail.com</td>\n",
       "      <td>Surya Rolex</td>\n",
       "      <td>Surya</td>\n",
       "      <td>Rolex</td>\n",
       "    </tr>\n",
       "    <tr>\n",
       "      <th>2</th>\n",
       "      <td>30</td>\n",
       "      <td>Vikram@gmail.com</td>\n",
       "      <td>Vikram Kamal</td>\n",
       "      <td>Vikram</td>\n",
       "      <td>Kamal</td>\n",
       "    </tr>\n",
       "  </tbody>\n",
       "</table>\n",
       "</div>"
      ],
      "text/plain": [
       "   No                               Mail      Full_Name   First     Last\n",
       "0  10  shaikmohammadhussain999@gmail.com  Jafar Hussain   Jafar  Hussain\n",
       "1  20                    Surya@gmail.com    Surya Rolex   Surya    Rolex\n",
       "2  30                   Vikram@gmail.com   Vikram Kamal  Vikram    Kamal"
      ]
     },
     "execution_count": 118,
     "metadata": {},
     "output_type": "execute_result"
    }
   ],
   "source": [
    "df[['First','Last']] = df['Full_Name'].str.split(' ',expand=True)\n",
    "df"
   ]
  },
  {
   "cell_type": "code",
   "execution_count": 119,
   "id": "0916e356",
   "metadata": {},
   "outputs": [
    {
     "name": "stderr",
     "output_type": "stream",
     "text": [
      "C:\\Users\\shaik\\AppData\\Local\\Temp\\ipykernel_7508\\2157790321.py:1: FutureWarning: The frame.append method is deprecated and will be removed from pandas in a future version. Use pandas.concat instead.\n",
      "  df.append( { 'First' : 'Tony'} , ignore_index=True)\n"
     ]
    },
    {
     "data": {
      "text/html": [
       "<div>\n",
       "<style scoped>\n",
       "    .dataframe tbody tr th:only-of-type {\n",
       "        vertical-align: middle;\n",
       "    }\n",
       "\n",
       "    .dataframe tbody tr th {\n",
       "        vertical-align: top;\n",
       "    }\n",
       "\n",
       "    .dataframe thead th {\n",
       "        text-align: right;\n",
       "    }\n",
       "</style>\n",
       "<table border=\"1\" class=\"dataframe\">\n",
       "  <thead>\n",
       "    <tr style=\"text-align: right;\">\n",
       "      <th></th>\n",
       "      <th>No</th>\n",
       "      <th>Mail</th>\n",
       "      <th>Full_Name</th>\n",
       "      <th>First</th>\n",
       "      <th>Last</th>\n",
       "    </tr>\n",
       "  </thead>\n",
       "  <tbody>\n",
       "    <tr>\n",
       "      <th>0</th>\n",
       "      <td>10.0</td>\n",
       "      <td>shaikmohammadhussain999@gmail.com</td>\n",
       "      <td>Jafar Hussain</td>\n",
       "      <td>Jafar</td>\n",
       "      <td>Hussain</td>\n",
       "    </tr>\n",
       "    <tr>\n",
       "      <th>1</th>\n",
       "      <td>20.0</td>\n",
       "      <td>Surya@gmail.com</td>\n",
       "      <td>Surya Rolex</td>\n",
       "      <td>Surya</td>\n",
       "      <td>Rolex</td>\n",
       "    </tr>\n",
       "    <tr>\n",
       "      <th>2</th>\n",
       "      <td>30.0</td>\n",
       "      <td>Vikram@gmail.com</td>\n",
       "      <td>Vikram Kamal</td>\n",
       "      <td>Vikram</td>\n",
       "      <td>Kamal</td>\n",
       "    </tr>\n",
       "    <tr>\n",
       "      <th>3</th>\n",
       "      <td>NaN</td>\n",
       "      <td>NaN</td>\n",
       "      <td>NaN</td>\n",
       "      <td>Tony</td>\n",
       "      <td>NaN</td>\n",
       "    </tr>\n",
       "  </tbody>\n",
       "</table>\n",
       "</div>"
      ],
      "text/plain": [
       "     No                               Mail      Full_Name   First     Last\n",
       "0  10.0  shaikmohammadhussain999@gmail.com  Jafar Hussain   Jafar  Hussain\n",
       "1  20.0                    Surya@gmail.com    Surya Rolex   Surya    Rolex\n",
       "2  30.0                   Vikram@gmail.com   Vikram Kamal  Vikram    Kamal\n",
       "3   NaN                                NaN            NaN    Tony      NaN"
      ]
     },
     "execution_count": 119,
     "metadata": {},
     "output_type": "execute_result"
    }
   ],
   "source": [
    "df.append( { 'First' : 'Tony'} , ignore_index=True)"
   ]
  },
  {
   "cell_type": "raw",
   "id": "c1dc37d3",
   "metadata": {},
   "source": [
    "#####"
   ]
  },
  {
   "cell_type": "code",
   "execution_count": 149,
   "id": "ca854c45",
   "metadata": {},
   "outputs": [],
   "source": [
    "people1 = {\n",
    "    \"First\" : [\"Tony\",\"Steve\"],\n",
    "    \"No\"   : [50,60],\n",
    "    \"Mail\" : [\"Iron.com\",\"Capitan@gmail.com\",]\n",
    "}\n",
    "df1= pd.DataFrame(people1)"
   ]
  },
  {
   "cell_type": "code",
   "execution_count": 150,
   "id": "a15f6606",
   "metadata": {},
   "outputs": [
    {
     "data": {
      "text/html": [
       "<div>\n",
       "<style scoped>\n",
       "    .dataframe tbody tr th:only-of-type {\n",
       "        vertical-align: middle;\n",
       "    }\n",
       "\n",
       "    .dataframe tbody tr th {\n",
       "        vertical-align: top;\n",
       "    }\n",
       "\n",
       "    .dataframe thead th {\n",
       "        text-align: right;\n",
       "    }\n",
       "</style>\n",
       "<table border=\"1\" class=\"dataframe\">\n",
       "  <thead>\n",
       "    <tr style=\"text-align: right;\">\n",
       "      <th></th>\n",
       "      <th>First</th>\n",
       "      <th>No</th>\n",
       "      <th>Mail</th>\n",
       "    </tr>\n",
       "  </thead>\n",
       "  <tbody>\n",
       "    <tr>\n",
       "      <th>0</th>\n",
       "      <td>Tony</td>\n",
       "      <td>50</td>\n",
       "      <td>Iron.com</td>\n",
       "    </tr>\n",
       "    <tr>\n",
       "      <th>1</th>\n",
       "      <td>Steve</td>\n",
       "      <td>60</td>\n",
       "      <td>Capitan@gmail.com</td>\n",
       "    </tr>\n",
       "  </tbody>\n",
       "</table>\n",
       "</div>"
      ],
      "text/plain": [
       "   First  No               Mail\n",
       "0   Tony  50           Iron.com\n",
       "1  Steve  60  Capitan@gmail.com"
      ]
     },
     "execution_count": 150,
     "metadata": {},
     "output_type": "execute_result"
    }
   ],
   "source": [
    "df1"
   ]
  },
  {
   "cell_type": "code",
   "execution_count": 151,
   "id": "41eef6ca",
   "metadata": {},
   "outputs": [
    {
     "name": "stderr",
     "output_type": "stream",
     "text": [
      "C:\\Users\\shaik\\AppData\\Local\\Temp\\ipykernel_7508\\3060255050.py:1: FutureWarning: The frame.append method is deprecated and will be removed from pandas in a future version. Use pandas.concat instead.\n",
      "  df = df.append(df1,ignore_index=True)\n"
     ]
    }
   ],
   "source": [
    "df = df.append(df1,ignore_index=True)"
   ]
  },
  {
   "cell_type": "markdown",
   "id": "01597b7b",
   "metadata": {},
   "source": [
    "# Remove the Row by using the index"
   ]
  },
  {
   "cell_type": "code",
   "execution_count": 152,
   "id": "2da4b1e3",
   "metadata": {},
   "outputs": [
    {
     "data": {
      "text/html": [
       "<div>\n",
       "<style scoped>\n",
       "    .dataframe tbody tr th:only-of-type {\n",
       "        vertical-align: middle;\n",
       "    }\n",
       "\n",
       "    .dataframe tbody tr th {\n",
       "        vertical-align: top;\n",
       "    }\n",
       "\n",
       "    .dataframe thead th {\n",
       "        text-align: right;\n",
       "    }\n",
       "</style>\n",
       "<table border=\"1\" class=\"dataframe\">\n",
       "  <thead>\n",
       "    <tr style=\"text-align: right;\">\n",
       "      <th></th>\n",
       "      <th>No</th>\n",
       "      <th>Mail</th>\n",
       "      <th>Full_Name</th>\n",
       "      <th>First</th>\n",
       "      <th>Last</th>\n",
       "    </tr>\n",
       "  </thead>\n",
       "  <tbody>\n",
       "    <tr>\n",
       "      <th>0</th>\n",
       "      <td>10</td>\n",
       "      <td>shaikmohammadhussain999@gmail.com</td>\n",
       "      <td>Jafar Hussain</td>\n",
       "      <td>Jafar</td>\n",
       "      <td>Hussain</td>\n",
       "    </tr>\n",
       "    <tr>\n",
       "      <th>1</th>\n",
       "      <td>20</td>\n",
       "      <td>Surya@gmail.com</td>\n",
       "      <td>Surya Rolex</td>\n",
       "      <td>Surya</td>\n",
       "      <td>Rolex</td>\n",
       "    </tr>\n",
       "    <tr>\n",
       "      <th>2</th>\n",
       "      <td>30</td>\n",
       "      <td>Vikram@gmail.com</td>\n",
       "      <td>Vikram Kamal</td>\n",
       "      <td>Vikram</td>\n",
       "      <td>Kamal</td>\n",
       "    </tr>\n",
       "    <tr>\n",
       "      <th>4</th>\n",
       "      <td>60</td>\n",
       "      <td>Capitan@gmail.com</td>\n",
       "      <td>NaN</td>\n",
       "      <td>Steve</td>\n",
       "      <td>NaN</td>\n",
       "    </tr>\n",
       "    <tr>\n",
       "      <th>5</th>\n",
       "      <td>50</td>\n",
       "      <td>Iron.com</td>\n",
       "      <td>NaN</td>\n",
       "      <td>Tony</td>\n",
       "      <td>NaN</td>\n",
       "    </tr>\n",
       "    <tr>\n",
       "      <th>6</th>\n",
       "      <td>60</td>\n",
       "      <td>Capitan@gmail.com</td>\n",
       "      <td>NaN</td>\n",
       "      <td>Steve</td>\n",
       "      <td>NaN</td>\n",
       "    </tr>\n",
       "  </tbody>\n",
       "</table>\n",
       "</div>"
      ],
      "text/plain": [
       "   No                               Mail      Full_Name   First     Last\n",
       "0  10  shaikmohammadhussain999@gmail.com  Jafar Hussain   Jafar  Hussain\n",
       "1  20                    Surya@gmail.com    Surya Rolex   Surya    Rolex\n",
       "2  30                   Vikram@gmail.com   Vikram Kamal  Vikram    Kamal\n",
       "4  60                  Capitan@gmail.com            NaN   Steve      NaN\n",
       "5  50                           Iron.com            NaN    Tony      NaN\n",
       "6  60                  Capitan@gmail.com            NaN   Steve      NaN"
      ]
     },
     "execution_count": 152,
     "metadata": {},
     "output_type": "execute_result"
    }
   ],
   "source": [
    "df.drop(index=3,inplace=True)\n",
    "df"
   ]
  },
  {
   "cell_type": "code",
   "execution_count": 155,
   "id": "358ae25e",
   "metadata": {},
   "outputs": [
    {
     "data": {
      "text/html": [
       "<div>\n",
       "<style scoped>\n",
       "    .dataframe tbody tr th:only-of-type {\n",
       "        vertical-align: middle;\n",
       "    }\n",
       "\n",
       "    .dataframe tbody tr th {\n",
       "        vertical-align: top;\n",
       "    }\n",
       "\n",
       "    .dataframe thead th {\n",
       "        text-align: right;\n",
       "    }\n",
       "</style>\n",
       "<table border=\"1\" class=\"dataframe\">\n",
       "  <thead>\n",
       "    <tr style=\"text-align: right;\">\n",
       "      <th></th>\n",
       "      <th>No</th>\n",
       "      <th>Mail</th>\n",
       "      <th>Full_Name</th>\n",
       "      <th>First</th>\n",
       "      <th>Last</th>\n",
       "    </tr>\n",
       "  </thead>\n",
       "  <tbody>\n",
       "    <tr>\n",
       "      <th>0</th>\n",
       "      <td>10</td>\n",
       "      <td>shaikmohammadhussain999@gmail.com</td>\n",
       "      <td>Jafar Hussain</td>\n",
       "      <td>Jafar</td>\n",
       "      <td>Hussain</td>\n",
       "    </tr>\n",
       "    <tr>\n",
       "      <th>1</th>\n",
       "      <td>20</td>\n",
       "      <td>Surya@gmail.com</td>\n",
       "      <td>Surya Rolex</td>\n",
       "      <td>Surya</td>\n",
       "      <td>Rolex</td>\n",
       "    </tr>\n",
       "    <tr>\n",
       "      <th>2</th>\n",
       "      <td>30</td>\n",
       "      <td>Vikram@gmail.com</td>\n",
       "      <td>Vikram Kamal</td>\n",
       "      <td>Vikram</td>\n",
       "      <td>Kamal</td>\n",
       "    </tr>\n",
       "    <tr>\n",
       "      <th>5</th>\n",
       "      <td>50</td>\n",
       "      <td>Iron.com</td>\n",
       "      <td>NaN</td>\n",
       "      <td>Tony</td>\n",
       "      <td>NaN</td>\n",
       "    </tr>\n",
       "  </tbody>\n",
       "</table>\n",
       "</div>"
      ],
      "text/plain": [
       "   No                               Mail      Full_Name   First     Last\n",
       "0  10  shaikmohammadhussain999@gmail.com  Jafar Hussain   Jafar  Hussain\n",
       "1  20                    Surya@gmail.com    Surya Rolex   Surya    Rolex\n",
       "2  30                   Vikram@gmail.com   Vikram Kamal  Vikram    Kamal\n",
       "5  50                           Iron.com            NaN    Tony      NaN"
      ]
     },
     "execution_count": 155,
     "metadata": {},
     "output_type": "execute_result"
    }
   ],
   "source": [
    "filt = (df['First'] == 'Steve')\n",
    "df.drop(index=df[filt].index)"
   ]
  }
 ],
 "metadata": {
  "kernelspec": {
   "display_name": "Python 3 (ipykernel)",
   "language": "python",
   "name": "python3"
  },
  "language_info": {
   "codemirror_mode": {
    "name": "ipython",
    "version": 3
   },
   "file_extension": ".py",
   "mimetype": "text/x-python",
   "name": "python",
   "nbconvert_exporter": "python",
   "pygments_lexer": "ipython3",
   "version": "3.10.4"
  }
 },
 "nbformat": 4,
 "nbformat_minor": 5
}
